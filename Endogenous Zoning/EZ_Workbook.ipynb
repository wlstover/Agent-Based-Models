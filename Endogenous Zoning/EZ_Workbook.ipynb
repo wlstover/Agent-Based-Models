{
 "cells": [
  {
   "cell_type": "markdown",
   "metadata": {},
   "source": [
    "## 1: Architecture\n",
    "\n",
    "Divided into **classes**. One class is the model itself, `ZoningModel`, and another class is `Actor` which defines our agents. There is also a `DevelopTag` agent defined in a separate class, which is used to store and update information on the grid tiles themselves that represent property. Finally, there are miscellaneous functions that do not belong to any class that are usually used to query information about the model directly for the purposes of reporting and analysis (for instance, `get_Regulations`). "
   ]
  },
  {
   "cell_type": "markdown",
   "metadata": {},
   "source": [
    "### 1.1: ZoningModel"
   ]
  },
  {
   "cell_type": "markdown",
   "metadata": {},
   "source": [
    "I recommend familiarizing yourself first with all of the attributes and actions that initialize when instantiating an instance of the classes, starting with `ZoningModel`. You will start to recognize these when they are called elsewhere. For instance, `ZoningModel` has a property `self.num_agents` which is determined by an argument passed when you are instantiating the model. \n",
    "\n",
    "We see below this that `ZoningModel` contains more attributes, such as empty lists for storing committee agents and developed/occupied cells. Whenever you see an empty list, that usually means that it's something *dynamic* that changes over the course of the model and will be kept track of here - these are usually important variables to know about. The comments should provide enough information about all these variables - just remember the principle that these variables will get called either inside this class, in which case you'll see it demaracated as `self.x`, or outside of it when we're trying to access these variables inside an instantiation of the class, in which case you'll see it as, for example, `zm.x`, where `zm` is the name of the variable holding that instantiation.\n",
    "\n",
    "#### 1.1.1: ZoningModel Start Actions\n",
    "\n",
    "Besides the variables, pay close attention to the actions that the model takes when it is first initialized - this basically gives you a complete overview of the \"grid\" in its starting state. Here, we can sum up the actions taken as:\n",
    "\n",
    "1. Populate the model's grid with `DevelopTag` agents to allow us to set attributes of the cells of the grid.\n",
    "2. Set random choice of cells to be developed.\n",
    "3. Randomly populate grid with a set number of agents. \n",
    "4. Update the population number of the model with the number of agents.\n",
    "5. Set the agents to be renters or homewoners and set their wealth and budgets.\n",
    "6. Set the home and rent values for developed cells. \n",
    "\n",
    "#### 1.1.2: DataCollector\n",
    "\n",
    "In the zoning model, you will also see a `self.datacollector` - this basically stores function outputs in a dictionary and updates it automatically as the model proceeds, which gives us output statistics later."
   ]
  },
  {
   "cell_type": "markdown",
   "metadata": {},
   "source": [
    "### 1.2: Actor"
   ]
  },
  {
   "cell_type": "markdown",
   "metadata": {},
   "source": [
    "#### 1.2.1: Step\n",
    "\n",
    "`step` is by far the most crucial variable to understand for any agent in an ABM. This function contains all the actions that an agent will take for each step of the model - if you understand the functions here, you'll largely understand what the agents are going to be doing during the model and how they will interact with other agents and parts of the model. I would go one function at a time and use that to guide how you move through the other functions and understand the role that they have to play.\n",
    "\n",
    "Here, we see that at each step, the agents will:\n",
    "\n",
    "1. Check if there are any neighbors in adjacent cells.\n",
    "2. Search their neighborhood for suitable properties - controlled by the `self.search_timer`\n",
    "3. Check if they are currently occupying a cell.\n",
    "4. Add payoff based on their rent/home value.\n",
    "5. Calculate their total payoff for that round and add it to their memory."
   ]
  },
  {
   "cell_type": "markdown",
   "metadata": {},
   "source": [
    "### 1.3: DevelopTag"
   ]
  },
  {
   "cell_type": "markdown",
   "metadata": {},
   "source": [
    "Probably most important things here just from looking at the class itself is to note the timers and `occupied` and `vacant` variables. This is more of a passive tag used to set attributes of cells in the grid, and thus will tend to be acted upon by the model itself."
   ]
  },
  {
   "cell_type": "markdown",
   "metadata": {},
   "source": [
    "__________________________________"
   ]
  },
  {
   "cell_type": "markdown",
   "metadata": {},
   "source": [
    "## 2: Running the Model"
   ]
  },
  {
   "cell_type": "markdown",
   "metadata": {},
   "source": [
    "I highly recommend having a version of this in the notebook to play around with - I am not sure if I shared my notebook or not, but I will if I haven't already. You essentially instantiate an instance of the `ZoningModel` class (I usually call it `zm`) and then give it commands. \n",
    "\n",
    "The most important command is `step`, which is *inherited* from the Python library `mesa` and is a default method of any Mesa model - that is why you'll see code like `zm.step()`, even if you see that function only for the agents and not for the model itself. The agents in fact have a `step` function precisely so that the model, when stepping, will tell every agent to step with it. This can be a little confusing. \n",
    "\n",
    "Probably the two most-frequently called methods of the `ZoningModel` are `step` and also `grid`, which is another default method. So we'll be calling the model to step, and often performing actions updating the grid somehow (as our model does at the very start, when we populate the grid with agents). \n",
    "\n",
    "The last part of the workbook I have shows how this might work. "
   ]
  },
  {
   "cell_type": "markdown",
   "metadata": {},
   "source": [
    "________________________________________________________"
   ]
  },
  {
   "cell_type": "markdown",
   "metadata": {},
   "source": [
    "## 3: The Server"
   ]
  },
  {
   "cell_type": "markdown",
   "metadata": {},
   "source": [
    "We can run our model in two ways: directly, by insantiating the model ourselves and giving it commands directly, which you can see at the end of the workbook - or we can use the `Mesa` server functionality which will instantiate the model and give it a GUI that can be displayed on a local server. \n",
    "\n",
    "We can think of the GUI as now issuing the commands to the model - like in NetLogo, our actions in the GUI are translated to the base language (Python). So when we tell it to step in the GUI, we're issuing a command to the model to step. But if you understand how the model works at the base level, that's what is important."
   ]
  }
 ],
 "metadata": {
  "kernelspec": {
   "display_name": "Python 3",
   "language": "python",
   "name": "python3"
  },
  "language_info": {
   "codemirror_mode": {
    "name": "ipython",
    "version": 3
   },
   "file_extension": ".py",
   "mimetype": "text/x-python",
   "name": "python",
   "nbconvert_exporter": "python",
   "pygments_lexer": "ipython3",
   "version": "3.7.1"
  }
 },
 "nbformat": 4,
 "nbformat_minor": 2
}
